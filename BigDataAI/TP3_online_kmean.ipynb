{
 "cells": [
  {
   "cell_type": "markdown",
   "metadata": {},
   "source": [
    "# Clustering et PCA Online"
   ]
  },
  {
   "cell_type": "code",
   "execution_count": null,
   "metadata": {},
   "outputs": [],
   "source": [
    "import numpy as np\n",
    "import pandas as pd\n",
    "# Affichage complet des dataframes\n",
    "pd.set_option('display.max_columns',100)\n",
    "pd.set_option('display.max_rows',1000)\n",
    "\n",
    "# Librairie graphique plotly\n",
    "import plotly.graph_objs as go\n"
   ]
  },
  {
   "cell_type": "markdown",
   "metadata": {},
   "source": [
    "## Data Preparation"
   ]
  },
  {
   "cell_type": "code",
   "execution_count": null,
   "metadata": {},
   "outputs": [],
   "source": [
    "df=pd.read_csv(\"data/fifa22.csv\")\n",
    "df.head(3)"
   ]
  },
  {
   "cell_type": "code",
   "execution_count": null,
   "metadata": {},
   "outputs": [],
   "source": [
    "attaquants=['CF', 'ST', 'LW', 'LF', 'RF','RW','RS','LS']\n",
    "milieux=['LM','CAM','CDM','CM','RM','RCM','RDM','LCM','LDM','RAM']\n",
    "defenseurs=['LWB','LB','CB','RB','RWB','LCB','RCB']\n",
    "gardiens=['GK']\n",
    "\n",
    "def pos2(position):\n",
    "    if position in attaquants:\n",
    "        return 'Attaquant'    \n",
    "    elif position in milieux:\n",
    "        return 'Milieu'    \n",
    "    elif position in defenseurs:\n",
    "        return 'Defenseur'    \n",
    "    elif position in gardiens:\n",
    "        return 'Gardien'    \n",
    "    else:\n",
    "        return 'nan'\n",
    "df[\"Position2\"]=df[\"club_position\"].apply(lambda x: pos2(x))\n",
    "df[\"Position2\"].value_counts()"
   ]
  },
  {
   "cell_type": "code",
   "execution_count": null,
   "metadata": {},
   "outputs": [],
   "source": [
    "skills_ratings = ['pace','shooting','passing','dribbling','defending','physic','attacking_crossing','attacking_finishing',\n",
    "'attacking_heading_accuracy','attacking_short_passing','attacking_volleys','skill_dribbling','skill_curve',\n",
    "'skill_fk_accuracy','skill_long_passing','skill_ball_control','movement_acceleration','movement_sprint_speed',\n",
    "'movement_agility','movement_reactions','movement_balance','power_shot_power','power_jumping','power_stamina',\n",
    "'power_strength','power_long_shots','mentality_aggression','mentality_interceptions','mentality_positioning',\n",
    "'mentality_vision','mentality_penalties','mentality_composure','defending_marking_awareness','defending_standing_tackle',\n",
    "'defending_sliding_tackle','goalkeeping_diving','goalkeeping_handling','goalkeeping_kicking','goalkeeping_positioning',\n",
    "'goalkeeping_reflexes','goalkeeping_speed']"
   ]
  },
  {
   "cell_type": "markdown",
   "metadata": {},
   "source": [
    "##  Minibatch Clustering + ACP 2D"
   ]
  },
  {
   "cell_type": "markdown",
   "metadata": {},
   "source": [
    "1.1 Sélectionner les 1000 meilleurs joueurs de champs (pas gardien). \n",
    "Réaliser un traitement \"online\" afin de réaliser un clustering et une PCA 2D par lot de 200 joueurs. \n",
    "Pour chaque itération, afficher la projection 2D de tous les joueurs traités."
   ]
  },
  {
   "cell_type": "markdown",
   "metadata": {},
   "source": [
    "##  Minibatch Clustering + ACP 3D"
   ]
  },
  {
   "cell_type": "markdown",
   "metadata": {},
   "source": [
    "1.2 Réaliser un traitement \"online\" afin de réaliser un clustering et une PCA 3D par lot de 200 joueurs. \n",
    "Pour chaque itération, afficher la projection 3D de tous les joueurs traités."
   ]
  }
 ],
 "metadata": {
  "kernelspec": {
   "display_name": "Python 3.9.6 64-bit",
   "language": "python",
   "name": "python3"
  },
  "language_info": {
   "codemirror_mode": {
    "name": "ipython",
    "version": 3
   },
   "file_extension": ".py",
   "mimetype": "text/x-python",
   "name": "python",
   "nbconvert_exporter": "python",
   "pygments_lexer": "ipython3",
   "version": "3.11.2"
  },
  "vscode": {
   "interpreter": {
    "hash": "f7976576504ac6c456dadd405d7477574ca2a64265ee4724cfbc25daae5f6d94"
   }
  }
 },
 "nbformat": 4,
 "nbformat_minor": 2
}
