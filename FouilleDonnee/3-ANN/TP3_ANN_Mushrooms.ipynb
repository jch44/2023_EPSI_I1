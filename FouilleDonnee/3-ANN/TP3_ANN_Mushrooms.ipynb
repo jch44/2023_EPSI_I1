{
 "cells": [
  {
   "cell_type": "markdown",
   "id": "a2dee2e0",
   "metadata": {},
   "source": [
    "# TP 2 : ANN appliqué aux dataset Mushroom pour reconnaitre les champignons toxiques"
   ]
  },
  {
   "cell_type": "markdown",
   "id": "52f2c9be",
   "metadata": {},
   "source": [
    "## Importation des librairies"
   ]
  },
  {
   "cell_type": "code",
   "execution_count": null,
   "id": "de4923ee",
   "metadata": {
    "execution": {
     "iopub.execute_input": "2021-08-05T05:02:55.674116Z",
     "iopub.status.busy": "2021-08-05T05:02:55.673400Z",
     "iopub.status.idle": "2021-08-05T05:02:58.190137Z",
     "shell.execute_reply": "2021-08-05T05:02:58.190703Z",
     "shell.execute_reply.started": "2021-08-05T04:56:29.380886Z"
    },
    "papermill": {
     "duration": 2.548274,
     "end_time": "2021-08-05T05:02:58.190933",
     "exception": false,
     "start_time": "2021-08-05T05:02:55.642659",
     "status": "completed"
    },
    "tags": []
   },
   "outputs": [],
   "source": [
    "import pandas as pd\n",
    "import numpy as np\n",
    "import matplotlib.pyplot as plt\n",
    "import sklearn\n",
    "from sklearn.preprocessing import OrdinalEncoder\n",
    "import torch\n",
    "import matplotlib.pyplot as plt\n",
    "import torch.nn as nn\n",
    "from sklearn.model_selection import train_test_split\n",
    "\n",
    "print (f\"numpy {np.__version__}, pandas {pd.__version__}, sklearn {sklearn.__version__}\")\n"
   ]
  },
  {
   "cell_type": "markdown",
   "id": "e7e52d00",
   "metadata": {},
   "source": [
    "## 1 Préparation et Affichage des données. Préparation ANN"
   ]
  },
  {
   "cell_type": "markdown",
   "id": "fc2550c7",
   "metadata": {},
   "source": [
    "1.1 Importer le fichier mushroom dans un dataFrame pandas, afficher les 10 premières lignes"
   ]
  },
  {
   "cell_type": "code",
   "execution_count": null,
   "id": "d7927a66",
   "metadata": {
    "execution": {
     "iopub.execute_input": "2021-08-05T05:02:58.253866Z",
     "iopub.status.busy": "2021-08-05T05:02:58.253138Z",
     "iopub.status.idle": "2021-08-05T05:02:58.298714Z",
     "shell.execute_reply": "2021-08-05T05:02:58.299188Z",
     "shell.execute_reply.started": "2021-08-05T04:56:29.395114Z"
    },
    "papermill": {
     "duration": 0.082203,
     "end_time": "2021-08-05T05:02:58.299379",
     "exception": false,
     "start_time": "2021-08-05T05:02:58.217176",
     "status": "completed"
    },
    "tags": []
   },
   "outputs": [],
   "source": []
  },
  {
   "cell_type": "markdown",
   "id": "53b3be9c",
   "metadata": {},
   "source": [
    "1.2 Afficher dans un diagramme le nombre de champignons comestibles et toxiques."
   ]
  },
  {
   "cell_type": "code",
   "execution_count": null,
   "id": "6a48a6ea",
   "metadata": {
    "execution": {
     "iopub.execute_input": "2021-08-05T05:02:58.465113Z",
     "iopub.status.busy": "2021-08-05T05:02:58.464377Z",
     "iopub.status.idle": "2021-08-05T05:02:58.780406Z",
     "shell.execute_reply": "2021-08-05T05:02:58.779858Z",
     "shell.execute_reply.started": "2021-08-05T04:56:29.492183Z"
    },
    "papermill": {
     "duration": 0.354551,
     "end_time": "2021-08-05T05:02:58.780564",
     "exception": false,
     "start_time": "2021-08-05T05:02:58.426013",
     "status": "completed"
    },
    "tags": []
   },
   "outputs": [],
   "source": []
  },
  {
   "cell_type": "markdown",
   "id": "43271d03",
   "metadata": {},
   "source": [
    "1.3 Afficher le nombres de valeurs unique pour chaque colonne."
   ]
  },
  {
   "cell_type": "code",
   "execution_count": null,
   "id": "2b3b0189",
   "metadata": {
    "execution": {
     "iopub.execute_input": "2021-08-05T05:02:58.847146Z",
     "iopub.status.busy": "2021-08-05T05:02:58.845029Z",
     "iopub.status.idle": "2021-08-05T05:02:58.890301Z",
     "shell.execute_reply": "2021-08-05T05:02:58.890822Z",
     "shell.execute_reply.started": "2021-08-05T04:56:29.830874Z"
    },
    "papermill": {
     "duration": 0.082763,
     "end_time": "2021-08-05T05:02:58.891013",
     "exception": false,
     "start_time": "2021-08-05T05:02:58.808250",
     "status": "completed"
    },
    "tags": []
   },
   "outputs": [],
   "source": []
  },
  {
   "cell_type": "markdown",
   "id": "f9d772f7",
   "metadata": {},
   "source": [
    "1.4 En fonction des résultat du 1.3, supprimer les colonnes inutiles.  "
   ]
  },
  {
   "cell_type": "code",
   "execution_count": null,
   "id": "c246c2b3",
   "metadata": {
    "execution": {
     "iopub.execute_input": "2021-08-05T05:02:58.953279Z",
     "iopub.status.busy": "2021-08-05T05:02:58.952281Z",
     "iopub.status.idle": "2021-08-05T05:02:58.962324Z",
     "shell.execute_reply": "2021-08-05T05:02:58.961646Z",
     "shell.execute_reply.started": "2021-08-05T04:56:29.885891Z"
    },
    "papermill": {
     "duration": 0.043438,
     "end_time": "2021-08-05T05:02:58.962480",
     "exception": false,
     "start_time": "2021-08-05T05:02:58.919042",
     "status": "completed"
    },
    "tags": []
   },
   "outputs": [],
   "source": []
  },
  {
   "cell_type": "markdown",
   "id": "476c4f7a",
   "metadata": {},
   "source": [
    "1.5 Créer un dataframe des features et une serie avec les labels (colonne class). Afficher les infos de faatures "
   ]
  },
  {
   "cell_type": "code",
   "execution_count": null,
   "id": "709631b1",
   "metadata": {},
   "outputs": [],
   "source": []
  },
  {
   "cell_type": "markdown",
   "id": "0dcfccb8",
   "metadata": {},
   "source": [
    "1.6 Transformer le vecteur des labels, pour avoir 1 pour les champignons empoisonnés et 0 sinon. Afficher les 10 premières valeurs."
   ]
  },
  {
   "cell_type": "code",
   "execution_count": null,
   "id": "51767c5d",
   "metadata": {
    "execution": {
     "iopub.execute_input": "2021-08-05T05:02:59.025337Z",
     "iopub.status.busy": "2021-08-05T05:02:59.024638Z",
     "iopub.status.idle": "2021-08-05T05:02:59.030299Z",
     "shell.execute_reply": "2021-08-05T05:02:59.030833Z",
     "shell.execute_reply.started": "2021-08-05T04:56:29.899024Z"
    },
    "papermill": {
     "duration": 0.041065,
     "end_time": "2021-08-05T05:02:59.031028",
     "exception": false,
     "start_time": "2021-08-05T05:02:58.989963",
     "status": "completed"
    },
    "tags": []
   },
   "outputs": [],
   "source": []
  },
  {
   "cell_type": "markdown",
   "id": "908d37df",
   "metadata": {},
   "source": [
    "1.7 Créer un objet device utilisant le GPU si disponible. Afficher le nom du GPU si il existe."
   ]
  },
  {
   "cell_type": "code",
   "execution_count": null,
   "id": "f0ac937b",
   "metadata": {
    "execution": {
     "iopub.execute_input": "2021-08-05T05:02:59.411877Z",
     "iopub.status.busy": "2021-08-05T05:02:59.410880Z",
     "iopub.status.idle": "2021-08-05T05:02:59.415541Z",
     "shell.execute_reply": "2021-08-05T05:02:59.414876Z",
     "shell.execute_reply.started": "2021-08-05T05:00:30.205451Z"
    },
    "papermill": {
     "duration": 0.03945,
     "end_time": "2021-08-05T05:02:59.415706",
     "exception": false,
     "start_time": "2021-08-05T05:02:59.376256",
     "status": "completed"
    },
    "tags": []
   },
   "outputs": [],
   "source": []
  },
  {
   "cell_type": "markdown",
   "id": "8d2e27c7",
   "metadata": {},
   "source": [
    "1.8 Créer un réseau de neurones prenant en paramètres le nombre de features et la taille des deux couches cachées.\n",
    "\n",
    "Le nombre de neurones en sortie est de fixe à la valeur 2."
   ]
  },
  {
   "cell_type": "code",
   "execution_count": null,
   "id": "fbf93f0d",
   "metadata": {
    "execution": {
     "iopub.execute_input": "2021-08-05T05:02:59.703504Z",
     "iopub.status.busy": "2021-08-05T05:02:59.702805Z",
     "iopub.status.idle": "2021-08-05T05:02:59.705666Z",
     "shell.execute_reply": "2021-08-05T05:02:59.705129Z",
     "shell.execute_reply.started": "2021-08-05T05:01:18.861737Z"
    },
    "papermill": {
     "duration": 0.038842,
     "end_time": "2021-08-05T05:02:59.705805",
     "exception": false,
     "start_time": "2021-08-05T05:02:59.666963",
     "status": "completed"
    },
    "tags": []
   },
   "outputs": [],
   "source": []
  },
  {
   "cell_type": "markdown",
   "id": "25ad2e59",
   "metadata": {
    "papermill": {
     "duration": 0.027496,
     "end_time": "2021-08-05T05:02:59.085650",
     "exception": false,
     "start_time": "2021-08-05T05:02:59.058154",
     "status": "completed"
    },
    "tags": []
   },
   "source": [
    "## 2. Apprentissage basé sur le Ordinal Encoding"
   ]
  },
  {
   "cell_type": "markdown",
   "id": "52b40fad",
   "metadata": {},
   "source": [
    "2.1 Créer une nouvelle de matrice Numpy de features numériques en transformant les étiquettes en entiers. Afficher les valeurs."
   ]
  },
  {
   "cell_type": "code",
   "execution_count": null,
   "id": "97de3e54",
   "metadata": {
    "execution": {
     "iopub.execute_input": "2021-08-05T05:02:59.144638Z",
     "iopub.status.busy": "2021-08-05T05:02:59.143952Z",
     "iopub.status.idle": "2021-08-05T05:02:59.206367Z",
     "shell.execute_reply": "2021-08-05T05:02:59.206900Z",
     "shell.execute_reply.started": "2021-08-05T04:56:29.914909Z"
    },
    "papermill": {
     "duration": 0.09335,
     "end_time": "2021-08-05T05:02:59.207086",
     "exception": false,
     "start_time": "2021-08-05T05:02:59.113736",
     "status": "completed"
    },
    "tags": []
   },
   "outputs": [],
   "source": []
  },
  {
   "cell_type": "markdown",
   "id": "84dd00e0",
   "metadata": {},
   "source": [
    "2.2 Créer un nouveau dataFrame des features basé sur encodage obtenu en 2.1. Afficher 10 valeurs au hasard."
   ]
  },
  {
   "cell_type": "code",
   "execution_count": null,
   "id": "1731c934",
   "metadata": {
    "execution": {
     "iopub.execute_input": "2021-08-05T05:02:59.265391Z",
     "iopub.status.busy": "2021-08-05T05:02:59.264792Z",
     "iopub.status.idle": "2021-08-05T05:02:59.282027Z",
     "shell.execute_reply": "2021-08-05T05:02:59.282501Z",
     "shell.execute_reply.started": "2021-08-05T04:56:29.979972Z"
    },
    "papermill": {
     "duration": 0.047759,
     "end_time": "2021-08-05T05:02:59.282675",
     "exception": false,
     "start_time": "2021-08-05T05:02:59.234916",
     "status": "completed"
    },
    "tags": []
   },
   "outputs": [],
   "source": []
  },
  {
   "cell_type": "markdown",
   "id": "5c3f0468",
   "metadata": {},
   "source": [
    "2.3 Diviser les données en gardant 20% de données de dev. Mélanger les données.\n",
    " \n",
    "Afficher les dimensions des 4 ensembles de données créées (features / labels de train et de dev)"
   ]
  },
  {
   "cell_type": "code",
   "execution_count": null,
   "id": "82eddc88",
   "metadata": {
    "execution": {
     "iopub.execute_input": "2021-08-05T05:02:59.543756Z",
     "iopub.status.busy": "2021-08-05T05:02:59.542186Z",
     "iopub.status.idle": "2021-08-05T05:02:59.548256Z",
     "shell.execute_reply": "2021-08-05T05:02:59.547717Z",
     "shell.execute_reply.started": "2021-08-05T05:01:17.287199Z"
    },
    "papermill": {
     "duration": 0.040111,
     "end_time": "2021-08-05T05:02:59.548405",
     "exception": false,
     "start_time": "2021-08-05T05:02:59.508294",
     "status": "completed"
    },
    "tags": []
   },
   "outputs": [],
   "source": []
  },
  {
   "cell_type": "markdown",
   "id": "dc49e609",
   "metadata": {},
   "source": [
    "2.4 A partir des  4 sets de données,  créer des tenseurs des réels. \n",
    "\n",
    "Pour vérifier afficher les dimensions des 4 tenseurs."
   ]
  },
  {
   "cell_type": "code",
   "execution_count": null,
   "id": "8facb10a",
   "metadata": {
    "execution": {
     "iopub.execute_input": "2021-08-05T05:02:59.618043Z",
     "iopub.status.busy": "2021-08-05T05:02:59.617223Z",
     "iopub.status.idle": "2021-08-05T05:02:59.637657Z",
     "shell.execute_reply": "2021-08-05T05:02:59.637072Z",
     "shell.execute_reply.started": "2021-08-05T05:01:18.144597Z"
    },
    "papermill": {
     "duration": 0.060793,
     "end_time": "2021-08-05T05:02:59.637800",
     "exception": false,
     "start_time": "2021-08-05T05:02:59.577007",
     "status": "completed"
    },
    "tags": []
   },
   "outputs": [],
   "source": []
  },
  {
   "cell_type": "markdown",
   "id": "b18fc12a",
   "metadata": {},
   "source": [
    "2.5 Créer un réseau des neurones avec 2 x 50 neurones cachées. \n",
    "\n",
    "Envoyer le réseau sur le bon device.\n",
    "\n",
    "Créer un optimizer de type Adam, abec un learning rate de 10 -4"
   ]
  },
  {
   "cell_type": "code",
   "execution_count": null,
   "id": "3cee62d7",
   "metadata": {
    "execution": {
     "iopub.execute_input": "2021-08-05T05:02:59.770835Z",
     "iopub.status.busy": "2021-08-05T05:02:59.770125Z",
     "iopub.status.idle": "2021-08-05T05:02:59.785484Z",
     "shell.execute_reply": "2021-08-05T05:02:59.784804Z",
     "shell.execute_reply.started": "2021-08-05T05:01:19.611946Z"
    },
    "papermill": {
     "duration": 0.051095,
     "end_time": "2021-08-05T05:02:59.785627",
     "exception": false,
     "start_time": "2021-08-05T05:02:59.734532",
     "status": "completed"
    },
    "tags": []
   },
   "outputs": [],
   "source": []
  },
  {
   "cell_type": "markdown",
   "id": "6830f522",
   "metadata": {},
   "source": [
    "2.6 Créer une fonction de coût de type cross entropie."
   ]
  },
  {
   "cell_type": "code",
   "execution_count": null,
   "id": "8eada03d",
   "metadata": {},
   "outputs": [],
   "source": []
  },
  {
   "cell_type": "markdown",
   "id": "dcd0b100",
   "metadata": {},
   "source": [
    "2.7 Envoyer les tenseurs de dev sur le device (et les tenseurs de trains si vous ne faites pas de batch question suivante)"
   ]
  },
  {
   "cell_type": "code",
   "execution_count": null,
   "id": "56a5b8e1",
   "metadata": {
    "execution": {
     "iopub.execute_input": "2021-08-05T05:02:59.848588Z",
     "iopub.status.busy": "2021-08-05T05:02:59.847798Z",
     "iopub.status.idle": "2021-08-05T05:02:59.850421Z",
     "shell.execute_reply": "2021-08-05T05:02:59.851007Z",
     "shell.execute_reply.started": "2021-08-05T05:01:20.282879Z"
    },
    "papermill": {
     "duration": 0.036745,
     "end_time": "2021-08-05T05:02:59.851178",
     "exception": false,
     "start_time": "2021-08-05T05:02:59.814433",
     "status": "completed"
    },
    "tags": []
   },
   "outputs": [],
   "source": []
  },
  {
   "cell_type": "markdown",
   "id": "fa6694bc",
   "metadata": {},
   "source": [
    "2.8 Créer une fonction training prenant le model, epochs, loss, optimizer\n",
    "\n",
    "Réaliser l'apprentissage sur les données train\n",
    "\n",
    "Optionnellement, vous pouvez faire un apprentissage par batch. Dans ce cas ajouter un paramètre batch_size\n",
    "\n",
    "Toutes les 5 itérations, calculer, stocker dans une liste extérieure à la fonction et afficher la précision obtenue et la loss value sur les données dev."
   ]
  },
  {
   "cell_type": "code",
   "execution_count": null,
   "id": "0e30d414",
   "metadata": {
    "execution": {
     "iopub.execute_input": "2021-08-05T05:02:59.913108Z",
     "iopub.status.busy": "2021-08-05T05:02:59.912355Z",
     "iopub.status.idle": "2021-08-05T05:02:59.922098Z",
     "shell.execute_reply": "2021-08-05T05:02:59.922746Z",
     "shell.execute_reply.started": "2021-08-05T05:01:20.855403Z"
    },
    "papermill": {
     "duration": 0.042448,
     "end_time": "2021-08-05T05:02:59.922945",
     "exception": false,
     "start_time": "2021-08-05T05:02:59.880497",
     "status": "completed"
    },
    "tags": []
   },
   "outputs": [],
   "source": []
  },
  {
   "cell_type": "markdown",
   "id": "fc876e02",
   "metadata": {},
   "source": [
    "2.8 Lancer le training avec 100 itérations"
   ]
  },
  {
   "cell_type": "code",
   "execution_count": null,
   "id": "174563e4",
   "metadata": {
    "execution": {
     "iopub.execute_input": "2021-08-05T05:02:59.986572Z",
     "iopub.status.busy": "2021-08-05T05:02:59.985903Z",
     "iopub.status.idle": "2021-08-05T05:03:05.472321Z",
     "shell.execute_reply": "2021-08-05T05:03:05.471682Z",
     "shell.execute_reply.started": "2021-08-05T05:01:21.540398Z"
    },
    "papermill": {
     "duration": 5.520261,
     "end_time": "2021-08-05T05:03:05.472473",
     "exception": false,
     "start_time": "2021-08-05T05:02:59.952212",
     "status": "completed"
    },
    "tags": []
   },
   "outputs": [],
   "source": []
  },
  {
   "cell_type": "markdown",
   "id": "f7d7aa57",
   "metadata": {},
   "source": [
    "2.9 Afficher dans un graphique l'historique des précisions obtenues."
   ]
  },
  {
   "cell_type": "code",
   "execution_count": null,
   "id": "a7f0f011",
   "metadata": {
    "execution": {
     "iopub.execute_input": "2021-08-05T05:03:05.550491Z",
     "iopub.status.busy": "2021-08-05T05:03:05.549760Z",
     "iopub.status.idle": "2021-08-05T05:03:05.685193Z",
     "shell.execute_reply": "2021-08-05T05:03:05.685720Z",
     "shell.execute_reply.started": "2021-08-05T05:01:29.418801Z"
    },
    "papermill": {
     "duration": 0.178813,
     "end_time": "2021-08-05T05:03:05.685902",
     "exception": false,
     "start_time": "2021-08-05T05:03:05.507089",
     "status": "completed"
    },
    "tags": []
   },
   "outputs": [],
   "source": []
  },
  {
   "cell_type": "markdown",
   "id": "f9c52fd0",
   "metadata": {
    "papermill": {
     "duration": 0.035061,
     "end_time": "2021-08-05T05:03:05.756699",
     "exception": false,
     "start_time": "2021-08-05T05:03:05.721638",
     "status": "completed"
    },
    "tags": []
   },
   "source": [
    "## 3. Apprentissage basé sur le Hot Encoding"
   ]
  },
  {
   "cell_type": "markdown",
   "id": "87645d71",
   "metadata": {},
   "source": [
    "3.1 Créer un nouveau dataframe de features basé sur le Hot Encoding.\n",
    "\n",
    "Afficher les 5 premières lignes."
   ]
  },
  {
   "cell_type": "code",
   "execution_count": null,
   "id": "c6d80a23",
   "metadata": {
    "execution": {
     "iopub.execute_input": "2021-08-05T05:03:05.836141Z",
     "iopub.status.busy": "2021-08-05T05:03:05.834024Z",
     "iopub.status.idle": "2021-08-05T05:03:05.873660Z",
     "shell.execute_reply": "2021-08-05T05:03:05.873051Z",
     "shell.execute_reply.started": "2021-08-05T05:01:34.758612Z"
    },
    "papermill": {
     "duration": 0.081817,
     "end_time": "2021-08-05T05:03:05.873816",
     "exception": false,
     "start_time": "2021-08-05T05:03:05.791999",
     "status": "completed"
    },
    "tags": []
   },
   "outputs": [],
   "source": []
  },
  {
   "cell_type": "markdown",
   "id": "ec22ec61",
   "metadata": {},
   "source": [
    "3.2 Diviser le nouveau dataframe de features en données de dev (20%) et de train. Mélanger les données.\n",
    "\n",
    "Envoyer les données obtenues sur le device.\n",
    "\n",
    "Afficher les dimensions avant et après envoi sur le device.\n"
   ]
  },
  {
   "cell_type": "code",
   "execution_count": null,
   "id": "8d1aca88",
   "metadata": {
    "execution": {
     "iopub.execute_input": "2021-08-05T05:03:06.032808Z",
     "iopub.status.busy": "2021-08-05T05:03:06.032107Z",
     "iopub.status.idle": "2021-08-05T05:03:06.045735Z",
     "shell.execute_reply": "2021-08-05T05:03:06.045115Z",
     "shell.execute_reply.started": "2021-08-05T05:01:35.503733Z"
    },
    "papermill": {
     "duration": 0.055868,
     "end_time": "2021-08-05T05:03:06.045895",
     "exception": false,
     "start_time": "2021-08-05T05:03:05.990027",
     "status": "completed"
    },
    "tags": []
   },
   "outputs": [],
   "source": []
  },
  {
   "cell_type": "markdown",
   "id": "4cc976ba",
   "metadata": {},
   "source": [
    "3.3 Créer un réseau des neurones avec 2 x 50 neurones cachées. \n",
    "\n",
    "Envoyer le réseau sur le bon device.\n",
    "\n",
    "Créer un optimizer de type Adam, abec un learning rate de 10 -4"
   ]
  },
  {
   "cell_type": "code",
   "execution_count": null,
   "id": "643bad45",
   "metadata": {
    "execution": {
     "iopub.execute_input": "2021-08-05T05:03:06.122511Z",
     "iopub.status.busy": "2021-08-05T05:03:06.121813Z",
     "iopub.status.idle": "2021-08-05T05:03:06.126680Z",
     "shell.execute_reply": "2021-08-05T05:03:06.127220Z",
     "shell.execute_reply.started": "2021-08-05T05:01:35.886781Z"
    },
    "papermill": {
     "duration": 0.04485,
     "end_time": "2021-08-05T05:03:06.127385",
     "exception": false,
     "start_time": "2021-08-05T05:03:06.082535",
     "status": "completed"
    },
    "tags": []
   },
   "outputs": [],
   "source": []
  },
  {
   "cell_type": "markdown",
   "id": "923442c9",
   "metadata": {},
   "source": [
    "3.4 Créer une nouvelle fonction de coût de type. Cross Entropy et un nouvel optimizer avec les paramètres du nouveau réseau"
   ]
  },
  {
   "cell_type": "code",
   "execution_count": null,
   "id": "bfeac912",
   "metadata": {
    "execution": {
     "iopub.execute_input": "2021-08-05T05:03:06.360978Z",
     "iopub.status.busy": "2021-08-05T05:03:06.360300Z",
     "iopub.status.idle": "2021-08-05T05:03:12.956440Z",
     "shell.execute_reply": "2021-08-05T05:03:12.955502Z",
     "shell.execute_reply.started": "2021-08-05T05:01:37.436747Z"
    },
    "papermill": {
     "duration": 6.634752,
     "end_time": "2021-08-05T05:03:12.956626",
     "exception": false,
     "start_time": "2021-08-05T05:03:06.321874",
     "status": "completed"
    },
    "tags": []
   },
   "outputs": [],
   "source": []
  },
  {
   "cell_type": "markdown",
   "id": "0165f0ec",
   "metadata": {},
   "source": [
    "3.5 Envoyer les nouvelles données de dev sur le device"
   ]
  },
  {
   "cell_type": "code",
   "execution_count": null,
   "id": "b145cd0d",
   "metadata": {
    "execution": {
     "iopub.execute_input": "2021-08-05T05:03:06.281022Z",
     "iopub.status.busy": "2021-08-05T05:03:06.280314Z",
     "iopub.status.idle": "2021-08-05T05:03:06.284382Z",
     "shell.execute_reply": "2021-08-05T05:03:06.284903Z",
     "shell.execute_reply.started": "2021-08-05T05:01:36.920675Z"
    },
    "papermill": {
     "duration": 0.043371,
     "end_time": "2021-08-05T05:03:06.285073",
     "exception": false,
     "start_time": "2021-08-05T05:03:06.241702",
     "status": "completed"
    },
    "tags": []
   },
   "outputs": [],
   "source": []
  },
  {
   "cell_type": "markdown",
   "id": "ebb8f4fa",
   "metadata": {},
   "source": [
    "3.6 Réécrire une fonction train, utilisant les nouveaux tenseurs"
   ]
  },
  {
   "cell_type": "code",
   "execution_count": null,
   "id": "2773a1ae",
   "metadata": {},
   "outputs": [],
   "source": []
  },
  {
   "cell_type": "markdown",
   "id": "76d3ae48",
   "metadata": {},
   "source": [
    "3.6 Lancer un apprentissage pour 100 itérations"
   ]
  },
  {
   "cell_type": "code",
   "execution_count": null,
   "id": "195e8792",
   "metadata": {},
   "outputs": [],
   "source": []
  },
  {
   "cell_type": "markdown",
   "id": "3be51537",
   "metadata": {},
   "source": [
    "3.7 Afficher dans un graphique les deux historique des précisions obtenues pour les deux encoding."
   ]
  },
  {
   "cell_type": "code",
   "execution_count": null,
   "id": "ed21017c",
   "metadata": {
    "execution": {
     "iopub.execute_input": "2021-08-05T05:03:13.051216Z",
     "iopub.status.busy": "2021-08-05T05:03:13.050183Z",
     "iopub.status.idle": "2021-08-05T05:03:13.213449Z",
     "shell.execute_reply": "2021-08-05T05:03:13.213966Z",
     "shell.execute_reply.started": "2021-08-05T05:01:43.825374Z"
    },
    "papermill": {
     "duration": 0.215223,
     "end_time": "2021-08-05T05:03:13.214133",
     "exception": false,
     "start_time": "2021-08-05T05:03:12.998910",
     "status": "completed"
    },
    "tags": []
   },
   "outputs": [],
   "source": []
  }
 ],
 "metadata": {
  "kernelspec": {
   "display_name": "Python 3",
   "language": "python",
   "name": "python3"
  },
  "language_info": {
   "codemirror_mode": {
    "name": "ipython",
    "version": 3
   },
   "file_extension": ".py",
   "mimetype": "text/x-python",
   "name": "python",
   "nbconvert_exporter": "python",
   "pygments_lexer": "ipython3",
   "version": "3.11.2"
  },
  "papermill": {
   "default_parameters": {},
   "duration": 27.603718,
   "end_time": "2021-08-05T05:03:14.253909",
   "environment_variables": {},
   "exception": null,
   "input_path": "__notebook__.ipynb",
   "output_path": "__notebook__.ipynb",
   "parameters": {},
   "start_time": "2021-08-05T05:02:46.650191",
   "version": "2.3.3"
  }
 },
 "nbformat": 4,
 "nbformat_minor": 5
}
